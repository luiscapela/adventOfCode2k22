{
 "cells": [
  {
   "cell_type": "code",
   "execution_count": 32,
   "metadata": {},
   "outputs": [
    {
     "name": "stdout",
     "output_type": "stream",
     "text": [
      "71780\n"
     ]
    }
   ],
   "source": [
    "file = open(\"day1input.txt\", \"r\")\n",
    "line = file.read()\n",
    "\n",
    "elfoBags = line.split(\"\\n\\n\")\n",
    "\n",
    "aux = 0\n",
    "elfo =[]\n",
    "for bag in elfoBags:\n",
    "    calories = bag.splitlines()\n",
    "    res = [int(i) for i in calories]\n",
    "    totalCalories = sum(res) \n",
    "    elfo.append(totalCalories)\n",
    "    \n",
    "    if(totalCalories > aux):\n",
    "        aux = totalCalories\n",
    "\n",
    "print(aux)\n",
    "\n",
    "\n",
    "\n",
    "\n",
    "    \n",
    "  \n",
    "    \n"
   ]
  },
  {
   "cell_type": "code",
   "execution_count": 33,
   "metadata": {},
   "outputs": [
    {
     "name": "stdout",
     "output_type": "stream",
     "text": [
      "[71780, 71481, 69228]\n",
      "212489\n"
     ]
    }
   ],
   "source": [
    "elfo.sort(reverse = True)\n",
    "print(elfo[0:3])\n",
    "\n",
    "total3Elfos = sum(elfo[0:3])\n",
    "print(total3Elfos)"
   ]
  }
 ],
 "metadata": {
  "kernelspec": {
   "display_name": "Python 3.11.0 64-bit",
   "language": "python",
   "name": "python3"
  },
  "language_info": {
   "codemirror_mode": {
    "name": "ipython",
    "version": 3
   },
   "file_extension": ".py",
   "mimetype": "text/x-python",
   "name": "python",
   "nbconvert_exporter": "python",
   "pygments_lexer": "ipython3",
   "version": "3.11.0"
  },
  "orig_nbformat": 4,
  "vscode": {
   "interpreter": {
    "hash": "aee8b7b246df8f9039afb4144a1f6fd8d2ca17a180786b69acc140d282b71a49"
   }
  }
 },
 "nbformat": 4,
 "nbformat_minor": 2
}
